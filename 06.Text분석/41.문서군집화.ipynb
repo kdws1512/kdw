{
 "cells": [
  {
   "cell_type": "markdown",
   "metadata": {},
   "source": [
    "# 문서 군집화 - Opinion Review Dataset"
   ]
  },
  {
   "cell_type": "code",
   "execution_count": 33,
   "metadata": {},
   "outputs": [
    {
     "data": {
      "text/plain": [
       "'OpinosisDataset1.0/topics\\\\*.data'"
      ]
     },
     "execution_count": 33,
     "metadata": {},
     "output_type": "execute_result"
    }
   ],
   "source": [
    "import pandas as pd\n",
    "import glob, os\n",
    "\n",
    "path = 'OpinosisDataset1.0/topics'\n",
    "os.path.join(path, '*.data')"
   ]
  },
  {
   "cell_type": "code",
   "execution_count": 34,
   "metadata": {},
   "outputs": [
    {
     "data": {
      "text/plain": [
       "['OpinosisDataset1.0/topics\\\\accuracy_garmin_nuvi_255W_gps.txt.data',\n",
       " 'OpinosisDataset1.0/topics\\\\bathroom_bestwestern_hotel_sfo.txt.data',\n",
       " 'OpinosisDataset1.0/topics\\\\battery-life_amazon_kindle.txt.data',\n",
       " 'OpinosisDataset1.0/topics\\\\battery-life_ipod_nano_8gb.txt.data',\n",
       " 'OpinosisDataset1.0/topics\\\\battery-life_netbook_1005ha.txt.data',\n",
       " 'OpinosisDataset1.0/topics\\\\buttons_amazon_kindle.txt.data',\n",
       " 'OpinosisDataset1.0/topics\\\\comfort_honda_accord_2008.txt.data',\n",
       " 'OpinosisDataset1.0/topics\\\\comfort_toyota_camry_2007.txt.data',\n",
       " 'OpinosisDataset1.0/topics\\\\directions_garmin_nuvi_255W_gps.txt.data',\n",
       " 'OpinosisDataset1.0/topics\\\\display_garmin_nuvi_255W_gps.txt.data',\n",
       " 'OpinosisDataset1.0/topics\\\\eyesight-issues_amazon_kindle.txt.data',\n",
       " 'OpinosisDataset1.0/topics\\\\features_windows7.txt.data',\n",
       " 'OpinosisDataset1.0/topics\\\\fonts_amazon_kindle.txt.data',\n",
       " 'OpinosisDataset1.0/topics\\\\food_holiday_inn_london.txt.data',\n",
       " 'OpinosisDataset1.0/topics\\\\food_swissotel_chicago.txt.data',\n",
       " 'OpinosisDataset1.0/topics\\\\free_bestwestern_hotel_sfo.txt.data',\n",
       " 'OpinosisDataset1.0/topics\\\\gas_mileage_toyota_camry_2007.txt.data',\n",
       " 'OpinosisDataset1.0/topics\\\\interior_honda_accord_2008.txt.data',\n",
       " 'OpinosisDataset1.0/topics\\\\interior_toyota_camry_2007.txt.data',\n",
       " 'OpinosisDataset1.0/topics\\\\keyboard_netbook_1005ha.txt.data',\n",
       " 'OpinosisDataset1.0/topics\\\\location_bestwestern_hotel_sfo.txt.data',\n",
       " 'OpinosisDataset1.0/topics\\\\location_holiday_inn_london.txt.data',\n",
       " 'OpinosisDataset1.0/topics\\\\mileage_honda_accord_2008.txt.data',\n",
       " 'OpinosisDataset1.0/topics\\\\navigation_amazon_kindle.txt.data',\n",
       " 'OpinosisDataset1.0/topics\\\\parking_bestwestern_hotel_sfo.txt.data',\n",
       " 'OpinosisDataset1.0/topics\\\\performance_honda_accord_2008.txt.data',\n",
       " 'OpinosisDataset1.0/topics\\\\performance_netbook_1005ha.txt.data',\n",
       " 'OpinosisDataset1.0/topics\\\\price_amazon_kindle.txt.data',\n",
       " 'OpinosisDataset1.0/topics\\\\price_holiday_inn_london.txt.data',\n",
       " 'OpinosisDataset1.0/topics\\\\quality_toyota_camry_2007.txt.data',\n",
       " 'OpinosisDataset1.0/topics\\\\rooms_bestwestern_hotel_sfo.txt.data',\n",
       " 'OpinosisDataset1.0/topics\\\\rooms_swissotel_chicago.txt.data',\n",
       " 'OpinosisDataset1.0/topics\\\\room_holiday_inn_london.txt.data',\n",
       " 'OpinosisDataset1.0/topics\\\\satellite_garmin_nuvi_255W_gps.txt.data',\n",
       " 'OpinosisDataset1.0/topics\\\\screen_garmin_nuvi_255W_gps.txt.data',\n",
       " 'OpinosisDataset1.0/topics\\\\screen_ipod_nano_8gb.txt.data',\n",
       " 'OpinosisDataset1.0/topics\\\\screen_netbook_1005ha.txt.data',\n",
       " 'OpinosisDataset1.0/topics\\\\seats_honda_accord_2008.txt.data',\n",
       " 'OpinosisDataset1.0/topics\\\\service_bestwestern_hotel_sfo.txt.data',\n",
       " 'OpinosisDataset1.0/topics\\\\service_holiday_inn_london.txt.data',\n",
       " 'OpinosisDataset1.0/topics\\\\service_swissotel_hotel_chicago.txt.data',\n",
       " 'OpinosisDataset1.0/topics\\\\size_asus_netbook_1005ha.txt.data',\n",
       " 'OpinosisDataset1.0/topics\\\\sound_ipod_nano_8gb.txt.data',\n",
       " 'OpinosisDataset1.0/topics\\\\speed_garmin_nuvi_255W_gps.txt.data',\n",
       " 'OpinosisDataset1.0/topics\\\\speed_windows7.txt.data',\n",
       " 'OpinosisDataset1.0/topics\\\\staff_bestwestern_hotel_sfo.txt.data',\n",
       " 'OpinosisDataset1.0/topics\\\\staff_swissotel_chicago.txt.data',\n",
       " 'OpinosisDataset1.0/topics\\\\transmission_toyota_camry_2007.txt.data',\n",
       " 'OpinosisDataset1.0/topics\\\\updates_garmin_nuvi_255W_gps.txt.data',\n",
       " 'OpinosisDataset1.0/topics\\\\video_ipod_nano_8gb.txt.data',\n",
       " 'OpinosisDataset1.0/topics\\\\voice_garmin_nuvi_255W_gps.txt.data']"
      ]
     },
     "execution_count": 34,
     "metadata": {},
     "output_type": "execute_result"
    }
   ],
   "source": [
    "glob.glob(os.path.join(path, '*.data'))"
   ]
  },
  {
   "cell_type": "code",
   "execution_count": 35,
   "metadata": {},
   "outputs": [
    {
     "data": {
      "text/plain": [
       "['OpinosisDataset1.0/topics\\\\accuracy_garmin_nuvi_255W_gps.txt.data',\n",
       " 'OpinosisDataset1.0/topics\\\\bathroom_bestwestern_hotel_sfo.txt.data',\n",
       " 'OpinosisDataset1.0/topics\\\\battery-life_amazon_kindle.txt.data',\n",
       " 'OpinosisDataset1.0/topics\\\\battery-life_ipod_nano_8gb.txt.data',\n",
       " 'OpinosisDataset1.0/topics\\\\battery-life_netbook_1005ha.txt.data']"
      ]
     },
     "execution_count": 35,
     "metadata": {},
     "output_type": "execute_result"
    }
   ],
   "source": [
    "all_files = glob.glob(os.path.join(path, '*.data'))\n",
    "all_files[:5]"
   ]
  },
  {
   "cell_type": "code",
   "execution_count": 36,
   "metadata": {},
   "outputs": [
    {
     "data": {
      "text/plain": [
       "'OpinosisDataset1.0/topics\\\\accuracy_garmin_nuvi_255W_gps.txt.data'"
      ]
     },
     "execution_count": 36,
     "metadata": {},
     "output_type": "execute_result"
    }
   ],
   "source": [
    "file = all_files[0]\n",
    "file"
   ]
  },
  {
   "cell_type": "code",
   "execution_count": 37,
   "metadata": {},
   "outputs": [
    {
     "data": {
      "text/plain": [
       "'accuracy_garmin_nuvi_255W_gps'"
      ]
     },
     "execution_count": 37,
     "metadata": {},
     "output_type": "execute_result"
    }
   ],
   "source": [
    "file.split('\\\\')[-1].split('.')[0]"
   ]
  },
  {
   "cell_type": "code",
   "execution_count": 38,
   "metadata": {},
   "outputs": [
    {
     "data": {
      "text/html": [
       "<div>\n",
       "<style scoped>\n",
       "    .dataframe tbody tr th:only-of-type {\n",
       "        vertical-align: middle;\n",
       "    }\n",
       "\n",
       "    .dataframe tbody tr th {\n",
       "        vertical-align: top;\n",
       "    }\n",
       "\n",
       "    .dataframe thead th {\n",
       "        text-align: right;\n",
       "    }\n",
       "</style>\n",
       "<table border=\"1\" class=\"dataframe\">\n",
       "  <thead>\n",
       "    <tr style=\"text-align: right;\">\n",
       "      <th></th>\n",
       "      <th>filename</th>\n",
       "      <th>opinion</th>\n",
       "    </tr>\n",
       "  </thead>\n",
       "  <tbody>\n",
       "    <tr>\n",
       "      <th>0</th>\n",
       "      <td>accuracy_garmin_nuvi_255W_gps</td>\n",
       "      <td>, and is very, very accurate .\\n but for the m...</td>\n",
       "    </tr>\n",
       "    <tr>\n",
       "      <th>1</th>\n",
       "      <td>bathroom_bestwestern_hotel_sfo</td>\n",
       "      <td>The room was not overly big, but clean and ve...</td>\n",
       "    </tr>\n",
       "    <tr>\n",
       "      <th>2</th>\n",
       "      <td>battery-life_amazon_kindle</td>\n",
       "      <td>After I plugged it in to my USB hub on my com...</td>\n",
       "    </tr>\n",
       "  </tbody>\n",
       "</table>\n",
       "</div>"
      ],
      "text/plain": [
       "                         filename  \\\n",
       "0   accuracy_garmin_nuvi_255W_gps   \n",
       "1  bathroom_bestwestern_hotel_sfo   \n",
       "2      battery-life_amazon_kindle   \n",
       "\n",
       "                                             opinion  \n",
       "0  , and is very, very accurate .\\n but for the m...  \n",
       "1   The room was not overly big, but clean and ve...  \n",
       "2   After I plugged it in to my USB hub on my com...  "
      ]
     },
     "execution_count": 38,
     "metadata": {},
     "output_type": "execute_result"
    }
   ],
   "source": [
    "filename_list = []\n",
    "opinion_text = []\n",
    "for file in glob.glob(os.path.join(path, '*.data')):\n",
    "    with open(file, encoding='latin1') as f:\n",
    "        text = f.read()\n",
    "    opinion_text.append(text)\n",
    "    filename = file.split('\\\\')[-1].split('.')[0]\n",
    "    filename_list.append(filename)\n",
    "\n",
    "df = pd.DataFrame({'filename':filename_list, 'opinion':opinion_text})\n",
    "df.head(3)"
   ]
  },
  {
   "cell_type": "markdown",
   "metadata": {},
   "source": [
    "- Simple tokenizer 함수"
   ]
  },
  {
   "cell_type": "code",
   "execution_count": 39,
   "metadata": {},
   "outputs": [],
   "source": [
    "from nltk import word_tokenize\n",
    "\n",
    "def simple_tokenizer(text):\n",
    "    return [word for word in word_tokenize(text) if len(word) > 2]"
   ]
  },
  {
   "cell_type": "code",
   "execution_count": 40,
   "metadata": {},
   "outputs": [],
   "source": [
    "from sklearn.feature_extraction.text import TfidfVectorizer\n",
    "\n",
    "tvect = TfidfVectorizer(tokenizer=simple_tokenizer, stop_words='english',\n",
    "                        ngram_range=(1,2), min_df=0.05, max_df=0.85)\n",
    "feature = tvect.fit_transform(df.opinion)"
   ]
  },
  {
   "cell_type": "markdown",
   "metadata": {},
   "source": [
    "- 군집화"
   ]
  },
  {
   "cell_type": "code",
   "execution_count": 41,
   "metadata": {},
   "outputs": [
    {
     "data": {
      "text/plain": [
       "KMeans(max_iter=10000, n_clusters=5, random_state=2022)"
      ]
     },
     "execution_count": 41,
     "metadata": {},
     "output_type": "execute_result"
    }
   ],
   "source": [
    "from sklearn.cluster import KMeans\n",
    "\n",
    "kmeans = KMeans(n_clusters=5, max_iter=10000, random_state=2022)\n",
    "kmeans.fit(feature)"
   ]
  },
  {
   "cell_type": "code",
   "execution_count": 42,
   "metadata": {},
   "outputs": [
    {
     "data": {
      "text/html": [
       "<div>\n",
       "<style scoped>\n",
       "    .dataframe tbody tr th:only-of-type {\n",
       "        vertical-align: middle;\n",
       "    }\n",
       "\n",
       "    .dataframe tbody tr th {\n",
       "        vertical-align: top;\n",
       "    }\n",
       "\n",
       "    .dataframe thead th {\n",
       "        text-align: right;\n",
       "    }\n",
       "</style>\n",
       "<table border=\"1\" class=\"dataframe\">\n",
       "  <thead>\n",
       "    <tr style=\"text-align: right;\">\n",
       "      <th></th>\n",
       "      <th>filename</th>\n",
       "      <th>opinion</th>\n",
       "      <th>cluster</th>\n",
       "    </tr>\n",
       "  </thead>\n",
       "  <tbody>\n",
       "    <tr>\n",
       "      <th>0</th>\n",
       "      <td>accuracy_garmin_nuvi_255W_gps</td>\n",
       "      <td>, and is very, very accurate .\\n but for the m...</td>\n",
       "      <td>0</td>\n",
       "    </tr>\n",
       "    <tr>\n",
       "      <th>1</th>\n",
       "      <td>bathroom_bestwestern_hotel_sfo</td>\n",
       "      <td>The room was not overly big, but clean and ve...</td>\n",
       "      <td>2</td>\n",
       "    </tr>\n",
       "    <tr>\n",
       "      <th>2</th>\n",
       "      <td>battery-life_amazon_kindle</td>\n",
       "      <td>After I plugged it in to my USB hub on my com...</td>\n",
       "      <td>1</td>\n",
       "    </tr>\n",
       "    <tr>\n",
       "      <th>3</th>\n",
       "      <td>battery-life_ipod_nano_8gb</td>\n",
       "      <td>short battery life  I moved up from an 8gb .\\...</td>\n",
       "      <td>1</td>\n",
       "    </tr>\n",
       "    <tr>\n",
       "      <th>4</th>\n",
       "      <td>battery-life_netbook_1005ha</td>\n",
       "      <td>6GHz 533FSB cpu, glossy display, 3, Cell 23Wh ...</td>\n",
       "      <td>1</td>\n",
       "    </tr>\n",
       "  </tbody>\n",
       "</table>\n",
       "</div>"
      ],
      "text/plain": [
       "                         filename  \\\n",
       "0   accuracy_garmin_nuvi_255W_gps   \n",
       "1  bathroom_bestwestern_hotel_sfo   \n",
       "2      battery-life_amazon_kindle   \n",
       "3      battery-life_ipod_nano_8gb   \n",
       "4     battery-life_netbook_1005ha   \n",
       "\n",
       "                                             opinion  cluster  \n",
       "0  , and is very, very accurate .\\n but for the m...        0  \n",
       "1   The room was not overly big, but clean and ve...        2  \n",
       "2   After I plugged it in to my USB hub on my com...        1  \n",
       "3   short battery life  I moved up from an 8gb .\\...        1  \n",
       "4  6GHz 533FSB cpu, glossy display, 3, Cell 23Wh ...        1  "
      ]
     },
     "execution_count": 42,
     "metadata": {},
     "output_type": "execute_result"
    }
   ],
   "source": [
    "df['cluster'] = kmeans.labels_\n",
    "df.head()"
   ]
  },
  {
   "cell_type": "code",
   "execution_count": 43,
   "metadata": {},
   "outputs": [
    {
     "data": {
      "text/plain": [
       "2    16\n",
       "3    13\n",
       "4    10\n",
       "0     7\n",
       "1     5\n",
       "Name: cluster, dtype: int64"
      ]
     },
     "execution_count": 43,
     "metadata": {},
     "output_type": "execute_result"
    }
   ],
   "source": [
    "df.cluster.value_counts()"
   ]
  },
  {
   "cell_type": "code",
   "execution_count": 44,
   "metadata": {},
   "outputs": [
    {
     "data": {
      "text/plain": [
       "2    16\n",
       "3    13\n",
       "4    10\n",
       "0     7\n",
       "1     5\n",
       "Name: cluster, dtype: int64"
      ]
     },
     "execution_count": 44,
     "metadata": {},
     "output_type": "execute_result"
    }
   ],
   "source": [
    "kmeans = KMeans(n_clusters=3, max_iter=10000, random_state=2022)\n",
    "kmeans.fit(feature)\n",
    "df['cluster_label'] = kmeans.labels_\n",
    "df.cluster.value_counts()"
   ]
  },
  {
   "cell_type": "markdown",
   "metadata": {},
   "source": [
    "- 군집별 핵심 단어 추출하기"
   ]
  },
  {
   "cell_type": "code",
   "execution_count": 45,
   "metadata": {},
   "outputs": [
    {
     "data": {
      "text/plain": [
       "(51, 4154)"
      ]
     },
     "execution_count": 45,
     "metadata": {},
     "output_type": "execute_result"
    }
   ],
   "source": [
    "feature.shape"
   ]
  },
  {
   "cell_type": "code",
   "execution_count": 46,
   "metadata": {},
   "outputs": [
    {
     "data": {
      "text/plain": [
       "(3, 4154)"
      ]
     },
     "execution_count": 46,
     "metadata": {},
     "output_type": "execute_result"
    }
   ],
   "source": [
    "cluster_centers = kmeans.cluster_centers_\n",
    "cluster_centers.shape"
   ]
  },
  {
   "cell_type": "code",
   "execution_count": 47,
   "metadata": {},
   "outputs": [],
   "source": [
    "from cluster import get_cluster_details\n",
    "\n",
    "feature_names = tvect.get_feature_names()\n",
    "cluster_details = get_cluster_details(cluster_model=kmeans, cluster_data=df,\n",
    "                                      feature_names=feature_names, clusters_num=3, top_n_features=10)"
   ]
  },
  {
   "cell_type": "code",
   "execution_count": 48,
   "metadata": {},
   "outputs": [
    {
     "ename": "AttributeError",
     "evalue": "'NoneType' object has no attribute 'items'",
     "output_type": "error",
     "traceback": [
      "\u001b[1;31m---------------------------------------------------------------------------\u001b[0m",
      "\u001b[1;31mAttributeError\u001b[0m                            Traceback (most recent call last)",
      "\u001b[1;32m<ipython-input-48-a8759a00d204>\u001b[0m in \u001b[0;36m<module>\u001b[1;34m\u001b[0m\n\u001b[1;32m----> 1\u001b[1;33m \u001b[1;32mfor\u001b[0m \u001b[0mcluster_num\u001b[0m\u001b[1;33m,\u001b[0m \u001b[0mcluster_detail\u001b[0m \u001b[1;32min\u001b[0m \u001b[0mcluster_details\u001b[0m\u001b[1;33m.\u001b[0m\u001b[0mitems\u001b[0m\u001b[1;33m(\u001b[0m\u001b[1;33m)\u001b[0m\u001b[1;33m:\u001b[0m\u001b[1;33m\u001b[0m\u001b[1;33m\u001b[0m\u001b[0m\n\u001b[0m\u001b[0;32m      2\u001b[0m     \u001b[0mprint\u001b[0m\u001b[1;33m(\u001b[0m\u001b[1;34mf'####### Cluster {cluster_num}'\u001b[0m\u001b[1;33m)\u001b[0m\u001b[1;33m\u001b[0m\u001b[1;33m\u001b[0m\u001b[0m\n\u001b[0;32m      3\u001b[0m     \u001b[0mprint\u001b[0m\u001b[1;33m(\u001b[0m\u001b[1;34m'Top features:'\u001b[0m\u001b[1;33m,\u001b[0m \u001b[0mcluster_detail\u001b[0m\u001b[1;33m[\u001b[0m\u001b[1;34m'top_features'\u001b[0m\u001b[1;33m]\u001b[0m\u001b[1;33m)\u001b[0m\u001b[1;33m\u001b[0m\u001b[1;33m\u001b[0m\u001b[0m\n\u001b[0;32m      4\u001b[0m     \u001b[0mprint\u001b[0m\u001b[1;33m(\u001b[0m\u001b[1;34m'Reviews 파일명:'\u001b[0m\u001b[1;33m,\u001b[0m \u001b[0mcluster_detail\u001b[0m\u001b[1;33m[\u001b[0m\u001b[1;34m'filenames'\u001b[0m\u001b[1;33m]\u001b[0m\u001b[1;33m[\u001b[0m\u001b[1;33m:\u001b[0m\u001b[1;36m7\u001b[0m\u001b[1;33m]\u001b[0m\u001b[1;33m)\u001b[0m\u001b[1;33m\u001b[0m\u001b[1;33m\u001b[0m\u001b[0m\n\u001b[0;32m      5\u001b[0m     \u001b[0mprint\u001b[0m\u001b[1;33m(\u001b[0m\u001b[1;34m'=================================================='\u001b[0m\u001b[1;33m)\u001b[0m\u001b[1;33m\u001b[0m\u001b[1;33m\u001b[0m\u001b[0m\n",
      "\u001b[1;31mAttributeError\u001b[0m: 'NoneType' object has no attribute 'items'"
     ]
    }
   ],
   "source": [
    "for cluster_num, cluster_detail in cluster_details.items():\n",
    "    print(f'####### Cluster {cluster_num}')\n",
    "    print('Top features:', cluster_detail['top_features'])\n",
    "    print('Reviews 파일명:', cluster_detail['filenames'][:7])\n",
    "    print('==================================================')"
   ]
  }
 ],
 "metadata": {
  "interpreter": {
   "hash": "b3ba2566441a7c06988d0923437866b63cedc61552a5af99d1f4fb67d367b25f"
  },
  "kernelspec": {
   "display_name": "Python 3.8.8 64-bit ('base': conda)",
   "language": "python",
   "name": "python3"
  },
  "language_info": {
   "codemirror_mode": {
    "name": "ipython",
    "version": 3
   },
   "file_extension": ".py",
   "mimetype": "text/x-python",
   "name": "python",
   "nbconvert_exporter": "python",
   "pygments_lexer": "ipython3",
   "version": "3.8.8"
  },
  "orig_nbformat": 4
 },
 "nbformat": 4,
 "nbformat_minor": 2
}
